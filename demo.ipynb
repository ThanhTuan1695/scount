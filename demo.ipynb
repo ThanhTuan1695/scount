{
 "metadata": {
  "language_info": {
   "codemirror_mode": {
    "name": "ipython",
    "version": 3
   },
   "file_extension": ".py",
   "mimetype": "text/x-python",
   "name": "python",
   "nbconvert_exporter": "python",
   "pygments_lexer": "ipython3",
   "version": "3.8.5"
  },
  "orig_nbformat": 2,
  "kernelspec": {
   "name": "python3",
   "display_name": "Python 3",
   "language": "python"
  }
 },
 "nbformat": 4,
 "nbformat_minor": 2,
 "cells": [
  {
   "cell_type": "code",
   "execution_count": 1,
   "metadata": {},
   "outputs": [],
   "source": [
    "import requests\n",
    "import random\n",
    "import hashlib\n",
    "import json"
   ]
  },
  {
   "cell_type": "code",
   "execution_count": 16,
   "metadata": {},
   "outputs": [],
   "source": [
    "def csrftoken(length=32):\n",
    "    # put your letters in the following string\n",
    "    character='ABCDEFGHIJKLMNOPQRSTUVWXYZabcdefghijklmnopqrstuvwxyz0123456789'\n",
    "    return ''.join((random.choice(character) for i in range(length)))\n",
    "\n",
    "\n",
    "def encrypt_SHA256(password):\n",
    "    sha_signature = \\\n",
    "        hashlib.sha256((hashlib.md5(password.encode()).hexdigest()).encode()).hexdigest()\n",
    "    return sha_signature"
   ]
  },
  {
   "cell_type": "code",
   "execution_count": 17,
   "metadata": {},
   "outputs": [
    {
     "output_type": "stream",
     "name": "stdout",
     "text": [
      "{'phone': '84937503940', 'password_hash': '6f3f26eb08b31298672016ebc6a0c3914e4091d69beccb0304fa4afc3ac166c7', 'remember_me': True}\n"
     ]
    }
   ],
   "source": [
    "session = requests.Session()\n",
    "response = session.get('https://banhang.shopee.vn/account/signin?next=%2F')\n",
    "# cook = response.cookies.get_dict()\n",
    "# cook_addon = { 'csrftoken' : csrftoken() }\n",
    "# cook_addon.update(cook)\n",
    "csrftoken_gen = csrftoken()\n",
    "# print(cook_addon)\n",
    "cookie_string = \"; \".join([str(x)+\"=\"+str(y) for x,y in response.cookies.get_dict().items()])\n",
    "headers = {\n",
    "    'x-csrftoken'     : csrftoken_gen,\n",
    "    'x-requested-with': 'XMLHttpRequest',\n",
    "    'referer'         : 'https://banhang.shopee.vn/account/signin?next=%2F',\n",
    "    'cookie'          : \"csrftoken=\" + csrftoken_gen + \"; \" + cookie_string,\n",
    "}\n",
    "#print(headers)  \n",
    "payload = {\n",
    "    'phone'    : '84937503940',\n",
    "    'password_hash': encrypt_SHA256('hQQcAtrwjwS'),\n",
    "    'remember_me'  : True,\n",
    "}\n",
    "print(payload)\n",
    "url=\"https://banhang.shopee.vn/api/v2/login/\"\n",
    "response = session.request(\"POST\", url, headers=headers, data = payload)"
   ]
  },
  {
   "cell_type": "code",
   "execution_count": 18,
   "metadata": {},
   "outputs": [],
   "source": [
    "# url sản phẩm: https://shopee.vn/product/130961937/7340035190\n",
    "# số lượng: 3\n",
    "# Giá tối đa: 5tr\n",
    "# Add voucher: "
   ]
  },
  {
   "cell_type": "code",
   "execution_count": 19,
   "metadata": {},
   "outputs": [],
   "source": [
    "url_product = \"https://shopee.vn/product/130961937/7340035190\""
   ]
  },
  {
   "cell_type": "code",
   "execution_count": 20,
   "metadata": {},
   "outputs": [],
   "source": [
    "res = session.request(\"GET\", url_product)"
   ]
  },
  {
   "cell_type": "code",
   "execution_count": null,
   "metadata": {},
   "outputs": [],
   "source": [
    "open(\"ahihi.txt\", \"wb\").write(res.content)"
   ]
  }
 ]
}